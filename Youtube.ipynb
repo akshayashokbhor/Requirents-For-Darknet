{
  "nbformat": 4,
  "nbformat_minor": 0,
  "metadata": {
    "colab": {
      "name": "Youtube.ipynb",
      "provenance": [],
      "collapsed_sections": [],
      "toc_visible": true
    },
    "kernelspec": {
      "name": "python3",
      "display_name": "Python 3"
    }
  },
  "cells": [
    {
      "cell_type": "markdown",
      "metadata": {
        "id": "4EfjFUm92TY0",
        "colab_type": "text"
      },
      "source": [
        "# **Change the Runtime from Runtime Menu.**"
      ]
    },
    {
      "cell_type": "markdown",
      "metadata": {
        "id": "eUyOWAoX2n_n",
        "colab_type": "text"
      },
      "source": [
        "# **Thats cool!! Now we are importing Darknet Github Repositary.**"
      ]
    },
    {
      "cell_type": "markdown",
      "metadata": {
        "id": "Ezhp2YO53-M9",
        "colab_type": "text"
      },
      "source": [
        "Runtime ==> Change runtime type ==> Select GPU, dont change python3. Make sure you have select python3 only."
      ]
    },
    {
      "cell_type": "code",
      "metadata": {
        "id": "b4H1n4tl2xTA",
        "colab_type": "code",
        "colab": {}
      },
      "source": [
        "!git clone https://github.com/AlexeyAB/darknet"
      ],
      "execution_count": 0,
      "outputs": []
    },
    {
      "cell_type": "markdown",
      "metadata": {
        "id": "XzLcG4hH23Tn",
        "colab_type": "text"
      },
      "source": [
        "# **Now we make changes to MAKEFILE. As we done in our previous videos.**\n",
        "\n",
        "As we are using Goolge Colab GPU, we make set GPU=1, cuDNN=1, and OPENCV=1. \n",
        "For this we just need to execute the below command!!."
      ]
    },
    {
      "cell_type": "code",
      "metadata": {
        "id": "w6Byl4c621VO",
        "colab_type": "code",
        "colab": {}
      },
      "source": [
        "# change makefile to have GPU and OPENCV enabled\n",
        "%cd darknet\n",
        "!sed -i 's/OPENCV=0/OPENCV=1/' Makefile\n",
        "!sed -i 's/GPU=0/GPU=1/' Makefile\n",
        "!sed -i 's/CUDNN=0/CUDNN=1/' Makefile"
      ],
      "execution_count": 0,
      "outputs": []
    },
    {
      "cell_type": "markdown",
      "metadata": {
        "id": "y5BT3Rgp3aWN",
        "colab_type": "text"
      },
      "source": [
        "# **Lets verify CUDA**"
      ]
    },
    {
      "cell_type": "code",
      "metadata": {
        "id": "1PM71Wun3gZ5",
        "colab_type": "code",
        "colab": {}
      },
      "source": [
        "# verify CUDA\n",
        "!/usr/local/cuda/bin/nvcc --version"
      ],
      "execution_count": 0,
      "outputs": []
    },
    {
      "cell_type": "markdown",
      "metadata": {
        "id": "7S1BrbT63pEt",
        "colab_type": "text"
      },
      "source": [
        "# **Now just MAKE it!!!!**"
      ]
    },
    {
      "cell_type": "code",
      "metadata": {
        "id": "FrQVvVr83svW",
        "colab_type": "code",
        "colab": {}
      },
      "source": [
        "# make darknet (build)\n",
        "!make"
      ],
      "execution_count": 0,
      "outputs": []
    },
    {
      "cell_type": "markdown",
      "metadata": {
        "id": "X8XjWjqH4QAE",
        "colab_type": "text"
      },
      "source": [
        "# Now, upload all files to respective darknet folder. **Drag and Drop Only.**\n",
        "1. yolov3-custom.cfg in **cfg folder**\n",
        "2. obj.names and obj.data in **data folder**\n",
        "3. train.txt and test.txt in **data folder**"
      ]
    },
    {
      "cell_type": "markdown",
      "metadata": {
        "id": "DOwm_XaK46bC",
        "colab_type": "text"
      },
      "source": [
        "## Now copy your images and labels from your drive to **data/obj folder**\n",
        "# Also, copy darknet53.conv.74 to **darknet folder only.**"
      ]
    },
    {
      "cell_type": "markdown",
      "metadata": {
        "id": "WHldmZXU63UC",
        "colab_type": "text"
      },
      "source": [
        "**!cp source-path destination-path**"
      ]
    },
    {
      "cell_type": "code",
      "metadata": {
        "id": "oCsDl8fG5Y9V",
        "colab_type": "code",
        "colab": {}
      },
      "source": [
        "!cp /content/drive/My\\ Drive/darknet/data/obj/* /content/darknet/data/obj\n",
        "!cp /content/drive/My\\ Drive/darknet/darknet53.conv.74 /content/darknet"
      ],
      "execution_count": 0,
      "outputs": []
    },
    {
      "cell_type": "code",
      "metadata": {
        "id": "9tKeuJPyIOTP",
        "colab_type": "code",
        "colab": {}
      },
      "source": [
        "#check all files are imported successfully not.\n",
        "import os\n",
        "\n",
        "path, dirs, files = next(os.walk(\"/content/darknet/data/obj\"))\n",
        "file_count = len(files)\n",
        "print(file_count)"
      ],
      "execution_count": 0,
      "outputs": []
    },
    {
      "cell_type": "markdown",
      "metadata": {
        "id": "DyWzbYHr54S6",
        "colab_type": "text"
      },
      "source": [
        "### **Before training, i will tell you one thing, that Google Colab says that, if user is ideal for 30 or 90 minutes, means no moment of mouse, or clicking anywhere, then they will assume that user are wasting their GPU which he/she occuipes and they will kick you out from their virtual machine.**\n",
        "\n",
        "**So to overcome this, we just copy a piece of code and paste in our console. It will keep awake our pc.**\n",
        "\n",
        "Code:\n",
        "\n",
        "function ClickConnect(){\n",
        "\n",
        "console.log(\"Working\"); \n",
        "\n",
        "document.querySelector(\"colab-toolbar-button#connect\").click() \n",
        "\n",
        "}\n",
        "\n",
        "setInterval(ClickConnect,60000)\n"
      ]
    },
    {
      "cell_type": "markdown",
      "metadata": {
        "id": "D8IqXcjB8g3o",
        "colab_type": "text"
      },
      "source": [
        "While Trainig, you can see your weights in backup folder and also u can see loss graph in chart.png."
      ]
    },
    {
      "cell_type": "markdown",
      "metadata": {
        "id": "0zyqPdzT7PPX",
        "colab_type": "text"
      },
      "source": [
        "# Train!!!!"
      ]
    },
    {
      "cell_type": "code",
      "metadata": {
        "id": "VFw3-MJo7Rzh",
        "colab_type": "code",
        "colab": {}
      },
      "source": [
        "!./darknet detector train data/obj.data cfg/yolov3-custom.cfg darknet53.conv.74 -dont_show"
      ],
      "execution_count": 0,
      "outputs": []
    }
  ]
}